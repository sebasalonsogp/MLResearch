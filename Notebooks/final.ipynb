{
 "cells": [
  {
   "cell_type": "code",
   "execution_count": 6,
   "metadata": {},
   "outputs": [],
   "source": [
    "import sys\n",
    "import os\n",
    "os.chdir('C:\\\\Users\\\\Sebas\\\\VSCProjects\\\\MLResearch')"
   ]
  },
  {
   "cell_type": "code",
   "execution_count": 8,
   "metadata": {},
   "outputs": [],
   "source": [
    "#from results import *\n",
    "import matplotlib.pyplot as plt\n",
    "import numpy as np\n",
    "import pandas as pd\n",
    "import json\n",
    "#from Scripts.functions import *"
   ]
  },
  {
   "cell_type": "markdown",
   "metadata": {},
   "source": [
    "# **ResNet18**"
   ]
  },
  {
   "cell_type": "markdown",
   "metadata": {},
   "source": [
    "## Resnet18 - Trained on MNIST, Evaluated on MNIST"
   ]
  },
  {
   "cell_type": "code",
   "execution_count": null,
   "metadata": {},
   "outputs": [],
   "source": [
    "#TODO\n",
    "execution_id = ''\n",
    "model,dataset = 'resnet18', 'mnist'\n",
    "model_path = f'./results/{model}/{dataset}/model_{model}_{dataset}.pth'\n",
    "result_path = f'./results/{model}/{dataset}/{execution_id}/results.json'\n",
    "print(result_path)"
   ]
  },
  {
   "cell_type": "code",
   "execution_count": null,
   "metadata": {},
   "outputs": [],
   "source": [
    "with open(result_path, 'r') as f:\n",
    "    content = f.read()\n",
    "\n",
    "json_objects = content.split(',\\n')\n",
    "\n",
    "for i,obj in enumerate(json_objects):\n",
    "    try:\n",
    "        data = json.loads(obj)\n",
    "        if data.get('Execution_ID') == execution_id:\n",
    "            print(data)\n",
    "    except json.JSONDecodeError:\n",
    "        print(\"Error decoding json object. Skipping.\")"
   ]
  },
  {
   "cell_type": "markdown",
   "metadata": {},
   "source": [
    "## Resnet18 - Trained on FSHN, Evaluated on FSHN"
   ]
  },
  {
   "cell_type": "code",
   "execution_count": null,
   "metadata": {},
   "outputs": [],
   "source": [
    "#TODO\n",
    "\n",
    "execution_id = ''\n",
    "model,dataset = 'resnet18', 'fashion_mnist'\n",
    "model_path = f'./results/{model}/{dataset}/model_{model}_{dataset}.pth'\n",
    "result_path = f'./results/{model}/{dataset}/{execution_id}/results.json'\n",
    "print(result_path)"
   ]
  },
  {
   "cell_type": "markdown",
   "metadata": {},
   "source": [
    "## Resnet18 - Trained on MNIST, Evaluated on FSHN"
   ]
  },
  {
   "cell_type": "code",
   "execution_count": null,
   "metadata": {},
   "outputs": [],
   "source": [
    "#TODO\n",
    "execution_id = ''\n",
    "model,dataset = 'resnet18', 'mnist'\n",
    "model_path = f'./results/{model}/{dataset}/model_{model}_{dataset}.pth'\n",
    "result_path = f'./results/{model}/{dataset}/{execution_id}/results.json'\n",
    "print(result_path)"
   ]
  },
  {
   "cell_type": "markdown",
   "metadata": {},
   "source": [
    "## Resnet18 - Trained on FSHN, Evaluated on MNIST"
   ]
  },
  {
   "cell_type": "code",
   "execution_count": null,
   "metadata": {},
   "outputs": [],
   "source": [
    "#TODO\n",
    "execution_id = ''\n",
    "model,dataset = 'resnet18', 'fashion_mnist'\n",
    "model_path = f'./results/{model}/{dataset}/model_{model}_{dataset}.pth'\n",
    "result_path = f'./results/{model}/{dataset}/{execution_id}/results.json'\n",
    "print(result_path)"
   ]
  },
  {
   "cell_type": "markdown",
   "metadata": {},
   "source": [
    "## ResNet18 - Trained on CIFAR10, Evaluated on CIFAR10"
   ]
  },
  {
   "cell_type": "code",
   "execution_count": null,
   "metadata": {},
   "outputs": [],
   "source": [
    "#TODO\n",
    "execution_id = ''\n",
    "model,dataset = 'resnet18', 'cifar10'\n",
    "model_path = f'./results/{model}/{dataset}/model_{model}_{dataset}.pth'\n",
    "result_path = f'./results/{model}/{dataset}/{execution_id}/results.json'\n",
    "print(result_path)"
   ]
  },
  {
   "cell_type": "markdown",
   "metadata": {},
   "source": [
    "## ResNet18 - Trained on CIFAR100, Evaluated on CIFAR100"
   ]
  },
  {
   "cell_type": "code",
   "execution_count": null,
   "metadata": {},
   "outputs": [],
   "source": [
    "#TODO\n",
    "execution_id = ''\n",
    "model,dataset = 'resnet18', 'cifar100'\n",
    "model_path = f'./results/{model}/{dataset}/model_{model}_{dataset}.pth'\n",
    "result_path = f'./results/{model}/{dataset}/{execution_id}/results.json'\n",
    "print(result_path)"
   ]
  },
  {
   "cell_type": "markdown",
   "metadata": {},
   "source": [
    "## ResNet18 - Trained on CIFAR10, Evaluated on CIFAR100"
   ]
  },
  {
   "cell_type": "code",
   "execution_count": null,
   "metadata": {},
   "outputs": [],
   "source": [
    "#TODO\n",
    "execution_id = ''\n",
    "model,dataset = 'resnet18', 'cifar10'\n",
    "model_path = f'./results/{model}/{dataset}/model_{model}_{dataset}.pth'\n",
    "result_path = f'./results/{model}/{dataset}/{execution_id}/results.json'\n",
    "print(result_path)"
   ]
  },
  {
   "cell_type": "markdown",
   "metadata": {},
   "source": [
    "## ResNet18 - Trained on CIFAR100, Evaluated on CIFAR10"
   ]
  },
  {
   "cell_type": "code",
   "execution_count": null,
   "metadata": {},
   "outputs": [],
   "source": [
    "#TODO\n",
    "execution_id = ''\n",
    "model,dataset = 'resnet18', 'cifar100'\n",
    "model_path = f'./results/{model}/{dataset}/model_{model}_{dataset}.pth'\n",
    "result_path = f'./results/{model}/{dataset}/{execution_id}/results.json'\n",
    "print(result_path)"
   ]
  },
  {
   "cell_type": "markdown",
   "metadata": {},
   "source": [
    "# **DenseNet**"
   ]
  },
  {
   "cell_type": "markdown",
   "metadata": {},
   "source": [
    "## DenseNet - Trained on CIFAR10, Evaluated on CIFAR10"
   ]
  },
  {
   "cell_type": "code",
   "execution_count": null,
   "metadata": {},
   "outputs": [],
   "source": [
    "#TODO\n",
    "execution_id = ''\n",
    "model,train_dataset = 'resnet18', 'cifar10'\n",
    "model_path = f'./results/{model}/{dataset}/model_{model}_{dataset}.pth'\n",
    "result_path = f'./results/{model}/{dataset}/{execution_id}/results.json'\n",
    "print(result_path)"
   ]
  },
  {
   "cell_type": "markdown",
   "metadata": {},
   "source": [
    "## DenseNet - Trained on CIFAR100, Evaluated on CIFAR100"
   ]
  },
  {
   "cell_type": "code",
   "execution_count": null,
   "metadata": {},
   "outputs": [],
   "source": [
    "#TODO\n",
    "execution_id = ''\n",
    "model,train_dataset = 'resnet18', 'cifar100'\n",
    "model_path = f'./results/{model}/{dataset}/model_{model}_{dataset}.pth'\n",
    "result_path = f'./results/{model}/{dataset}/{execution_id}/results.json'\n",
    "print(result_path)"
   ]
  }
 ],
 "metadata": {
  "kernelspec": {
   "display_name": "Python 3",
   "language": "python",
   "name": "python3"
  },
  "language_info": {
   "codemirror_mode": {
    "name": "ipython",
    "version": 3
   },
   "file_extension": ".py",
   "mimetype": "text/x-python",
   "name": "python",
   "nbconvert_exporter": "python",
   "pygments_lexer": "ipython3",
   "version": "3.11.8"
  }
 },
 "nbformat": 4,
 "nbformat_minor": 2
}
